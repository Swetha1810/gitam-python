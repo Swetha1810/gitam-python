{
 "cells": [
  {
   "cell_type": "markdown",
   "metadata": {},
   "source": [
    "# standard libraries\n",
    "file I/O\n",
    "regular expressions\n",
    "datetime\n",
    "math(numerical and mathematical)\n",
    "\n",
    "\n",
    "# file handling in python\n",
    "file--document containing information resides on the permanent storage\n",
    "different types of files:-txt,docs,pdfs\n",
    "\n",
    "\n",
    "# modes of the file I/O\n",
    "w--this mode is used for file writing --- if the file is not present first it creates a file and write so me data to it  --- if the file is already present rewrite the previous data"
   ]
  },
  {
   "cell_type": "code",
   "execution_count": 2,
   "metadata": {},
   "outputs": [
    {
     "name": "stdout",
     "output_type": "stream",
     "text": [
      "file is created and data had been written\n"
     ]
    }
   ],
   "source": [
    " #function to create a file and write to the file \n",
    "def createfile(filename):\n",
    "   f=open(filename,\"w\")\n",
    "   for i in range(10):\n",
    "       f.write(\"this is %d line\"%i)\n",
    "   print(\"file is created and data had been written\")\n",
    "   return\n",
    "createfile(\"file.txt\")\n",
    "                                   "
   ]
  },
  {
   "cell_type": "code",
   "execution_count": 4,
   "metadata": {},
   "outputs": [
    {
     "name": "stdout",
     "output_type": "stream",
     "text": [
      "file created and succesfully data written\n"
     ]
    }
   ],
   "source": [
    "def appenddata(filename):\n",
    "    f=open(filename,\"a\")\n",
    "    for i in range(10):\n",
    "        f.write(\"this is %d line\"%i)\n",
    "    print(\"file created and succesfully data written\")\n",
    "    return\n",
    "appenddata(\"file11.txt\")"
   ]
  },
  {
   "cell_type": "code",
   "execution_count": 5,
   "metadata": {},
   "outputs": [
    {
     "name": "stdout",
     "output_type": "stream",
     "text": [
      "this is 0 line\n",
      "this is 1 line\n",
      "this is 2 line\n",
      "this is 3 line\n",
      "this is 4 line\n",
      "this is 5 line\n",
      "this is 6 line\n",
      "this is 7 line\n",
      "this is 8 line\n",
      "this is 9 line\n",
      "file created and succesfully data written\n"
     ]
    }
   ],
   "source": [
    "def appenddata(filename):\n",
    "   f=open(filename,\"a\")\n",
    "   for i in range(10):\n",
    "       print(\"this is %d line\"%i)\n",
    "   print(\"file created and succesfully data written\")\n",
    "   return\n",
    "appenddata(\"file11.txt\")"
   ]
  },
  {
   "cell_type": "code",
   "execution_count": 6,
   "metadata": {},
   "outputs": [
    {
     "name": "stdout",
     "output_type": "stream",
     "text": [
      "file created and succesfully data written\n"
     ]
    }
   ],
   "source": [
    "def appenddata(filename):\n",
    "   f=open(filename,\"a\")\n",
    "   for i in range(10):\n",
    "       f.write(\"newline1 \\n\")\n",
    "       f.write(\"newline2 \\n\")\n",
    "   print(\"file created and succesfully data written\")\n",
    "   return\n",
    "appenddata(\"file33.txt\")"
   ]
  },
  {
   "cell_type": "code",
   "execution_count": 7,
   "metadata": {},
   "outputs": [
    {
     "name": "stdout",
     "output_type": "stream",
     "text": [
      "newline1 \n",
      "newline2 \n",
      "newline1 \n",
      "newline2 \n",
      "newline1 \n",
      "newline2 \n",
      "newline1 \n",
      "newline2 \n",
      "newline1 \n",
      "newline2 \n",
      "newline1 \n",
      "newline2 \n",
      "newline1 \n",
      "newline2 \n",
      "newline1 \n",
      "newline2 \n",
      "newline1 \n",
      "newline2 \n",
      "newline1 \n",
      "newline2 \n",
      "\n"
     ]
    }
   ],
   "source": [
    " #function to read the file \n",
    "def readfiledata(filename):\n",
    "   f=open(filename,\"r\")\n",
    "   if f.mode==\"r\":\n",
    "       x=f.read()\n",
    "       print(x)\n",
    "   f.close()\n",
    "   return\n",
    "readfiledata(\"file33.txt\")"
   ]
  },
  {
   "cell_type": "code",
   "execution_count": 8,
   "metadata": {},
   "outputs": [
    {
     "name": "stdout",
     "output_type": "stream",
     "text": [
      "enter the filenamefile33.txt\n",
      "enter the mode of the filer\n",
      "newline1 \n",
      "newline2 \n",
      "newline1 \n",
      "newline2 \n",
      "newline1 \n",
      "newline2 \n",
      "newline1 \n",
      "newline2 \n",
      "newline1 \n",
      "newline2 \n",
      "newline1 \n",
      "newline2 \n",
      "newline1 \n",
      "newline2 \n",
      "newline1 \n",
      "newline2 \n",
      "newline1 \n",
      "newline2 \n",
      "newline1 \n",
      "newline2 \n",
      "\n"
     ]
    }
   ],
   "source": [
    " #function to read the file data\n",
    "def fileoperations2(filename,mode):\n",
    "   with open(filename,mode) as f:\n",
    "       if f.mode=='r':\n",
    "           data=f.read()\n",
    "           print(data)\n",
    "       elif f.mode=='a':\n",
    "           f.write('data to the file')\n",
    "           print('the data successfully written')\n",
    "   f.close()\n",
    "   return\n",
    "filename=input('enter the filename')\n",
    "mode=input('enter the mode of the file')\n",
    "fileoperations2(filename,mode)"
   ]
  },
  {
   "cell_type": "code",
   "execution_count": 9,
   "metadata": {},
   "outputs": [
    {
     "name": "stdout",
     "output_type": "stream",
     "text": [
      "enter the filename:file33.txt\n",
      "enter the word:newline2\n"
     ]
    },
    {
     "data": {
      "text/plain": [
       "10"
      ]
     },
     "execution_count": 9,
     "metadata": {},
     "output_type": "execute_result"
    }
   ],
   "source": [
    " #data analysis\n",
    "#word count program\n",
    "def wordcount(filename,word):\n",
    "   with open(filename,'r') as f:\n",
    "       if f.mode=='r':\n",
    "           x=f.read()\n",
    "           li=x.split() #it splits the string\n",
    "   cnt = li.count(word)        \n",
    "   return cnt\n",
    "filename=input(\"enter the filename:\")\n",
    "word=input(\"enter the word:\")\n",
    "wordcount(filename,word) \n"
   ]
  },
  {
   "cell_type": "code",
   "execution_count": 10,
   "metadata": {},
   "outputs": [
    {
     "name": "stdout",
     "output_type": "stream",
     "text": [
      "enter the file name:file33.txt\n"
     ]
    },
    {
     "data": {
      "text/plain": [
       "'uppercase=0,lowercase=140'"
      ]
     },
     "execution_count": 10,
     "metadata": {},
     "output_type": "execute_result"
    }
   ],
   "source": [
    "def casecount(filename):\n",
    "   cntupper=0\n",
    "   cntlower=0\n",
    "   with open(filename,'r')as f:\n",
    "       if f.mode=='r':\n",
    "           x=f.read()\n",
    "           li=list(x)\n",
    "   for i in li:\n",
    "       if i.isupper():\n",
    "           cntupper+=1\n",
    "       elif i.islower():\n",
    "           cntlower+=1\n",
    "   output='uppercase={0},lowercase={1}'.format(cntupper,cntlower)\n",
    "   return output\n",
    "filename=input(\"enter the file name:\")\n",
    "casecount(filename)"
   ]
  },
  {
   "cell_type": "code",
   "execution_count": 11,
   "metadata": {},
   "outputs": [
    {
     "name": "stdout",
     "output_type": "stream",
     "text": [
      "enter the filenamefile33.txt\n"
     ]
    },
    {
     "data": {
      "text/plain": [
       "200"
      ]
     },
     "execution_count": 11,
     "metadata": {},
     "output_type": "execute_result"
    }
   ],
   "source": [
    "  #charecter count from the given file\n",
    "def charactercount(filename):\n",
    "   with open(filename,'r') as f:\n",
    "        if f.mode=='r':\n",
    "           x=f.read()\n",
    "           li=list(x)#convert the string -char\n",
    "   return len(li)\n",
    "filename=input(\"enter the filename\")\n",
    "charactercount(filename)"
   ]
  },
  {
   "cell_type": "code",
   "execution_count": 12,
   "metadata": {},
   "outputs": [
    {
     "name": "stdout",
     "output_type": "stream",
     "text": [
      "enter the filename:file33.txt\n"
     ]
    },
    {
     "data": {
      "text/plain": [
       "21"
      ]
     },
     "execution_count": 12,
     "metadata": {},
     "output_type": "execute_result"
    }
   ],
   "source": [
    "                                                     #function tp find the no of lines in the input\n",
    "def countofline(filename):\n",
    "   with open(filename,\"r\") as f:\n",
    "       if f.mode=='r':\n",
    "           x=f.read()\n",
    "           li=x.split(\"\\n\")\n",
    "   return len(li)\n",
    "filename=input('enter the filename:')\n",
    "countofline(filename)"
   ]
  },
  {
   "cell_type": "code",
   "execution_count": 13,
   "metadata": {},
   "outputs": [
    {
     "name": "stdout",
     "output_type": "stream",
     "text": [
      " Volume in drive C has no label.\n",
      " Volume Serial Number is B8E5-B928\n",
      "\n",
      " Directory of C:\\Users\\229\n",
      "\n",
      "11-Jul-19  02:26 PM    <DIR>          .\n",
      "11-Jul-19  02:26 PM    <DIR>          ..\n",
      "08-May-19  10:25 AM    <DIR>          .anaconda\n",
      "14-Mar-17  11:10 AM               145 .appletviewer\n",
      "25-Jun-19  09:17 PM               151 .bash_history\n",
      "02-Nov-17  02:51 PM                 0 .cdtclient\n",
      "26-Jun-19  07:38 PM    <DIR>          .conda\n",
      "26-Jun-19  07:38 PM                43 .condarc\n",
      "21-May-19  11:49 AM                66 .gitconfig\n",
      "11-Jul-19  02:14 PM    <DIR>          .ipynb_checkpoints\n",
      "08-May-19  10:43 AM    <DIR>          .ipython\n",
      "08-May-19  12:51 PM    <DIR>          .jupyter\n",
      "18-May-19  11:10 AM    <DIR>          .matplotlib\n",
      "15-Nov-18  03:07 PM    <DIR>          .oracle_jre_usage\n",
      "06-Jul-19  12:41 PM            12,566 06-07-2019.ipynb\n",
      "08-Jul-19  03:53 PM            13,247 08-07-2019.ipynb\n",
      "09-Jul-19  04:35 PM            10,568 09-07-2019.ipynb\n",
      "11-May-19  02:45 PM            10,951 10 May 2019.ipynb\n",
      "10-Jul-19  04:32 PM            16,584 10-07-2019.ipynb\n",
      "11-May-19  03:05 PM             8,141 11 May 2019.ipynb\n",
      "11-Jul-19  02:26 PM             6,701 11-07-2019.ipynb\n",
      "14-May-19  09:53 AM             5,308 12 May 2019.ipynb\n",
      "14-May-19  09:58 AM             2,584 13 May 2019.ipynb\n",
      "16-May-19  10:23 AM             7,729 15 May 2019.ipynb\n",
      "16-May-19  11:43 AM             3,546 16 May 2019.ipynb\n",
      "21-May-19  02:33 PM             1,597 21 May 2019.ipynb\n",
      "09-May-19  05:03 PM             4,564 8 May 2019.ipynb\n",
      "10-May-19  09:58 AM            12,124 9 May 2019.ipynb\n",
      "25-Jun-19  03:14 PM            10,329 aamuktha.ipynb\n",
      "12-May-19  02:44 PM    <DIR>          Anaconda3\n",
      "10-Jul-19  05:05 PM             7,692 assignment.ipynb\n",
      "06-Dec-16  07:16 AM    <DIR>          b429\n",
      "08-May-19  02:54 PM    <DIR>          Contacts\n",
      "12-Mar-19  02:22 PM    <DIR>          csb6\n",
      "26-Jun-19  09:28 PM            11,848 Data structures.ipynb\n",
      "16-May-19  11:35 AM    <DIR>          Datafiles\n",
      "08-Jul-19  10:44 AM    <DIR>          Desktop\n",
      "08-May-19  02:54 PM    <DIR>          Documents\n",
      "25-Jun-19  06:22 PM    <DIR>          Downloads\n",
      "08-May-19  02:54 PM    <DIR>          Favorites\n",
      "11-Jul-19  02:18 PM               140 file.txt\n",
      "11-Jul-19  09:51 AM                12 file1.txt\n",
      "11-Jul-19  02:20 PM               140 file11.txt\n",
      "11-Jul-19  10:19 AM                 0 file2.txt\n",
      "11-Jul-19  10:20 AM               200 file3.txt\n",
      "11-Jul-19  02:21 PM               220 file33.txt\n",
      "15-May-19  09:50 AM             2,798 Hackathon Phase 1(14 May 2019).ipynb\n",
      "08-May-19  02:54 PM    <DIR>          Links\n",
      "08-May-19  02:54 PM    <DIR>          Music\n",
      "08-May-19  02:54 PM    <DIR>          Pictures\n",
      "16-May-19  11:31 AM    <DIR>          Python\n",
      "11-Jul-19  10:57 AM            16,657 python 11-7-19.ipynb\n",
      "22-Jun-19  04:50 PM             1,305 santhosh.ipynb\n",
      "08-May-19  02:54 PM    <DIR>          Saved Games\n",
      "08-May-19  02:54 PM    <DIR>          Searches\n",
      "08-May-19  10:43 AM                72 Untitled.ipynb\n",
      "08-May-19  03:13 PM                 0 untitled.txt\n",
      "08-May-19  12:52 PM                72 Untitled1.ipynb\n",
      "26-Jun-19  08:34 PM               555 Untitled10.ipynb\n",
      "28-Jun-19  03:25 PM             3,162 Untitled11.ipynb\n",
      "08-May-19  02:30 PM                72 Untitled2.ipynb\n",
      "08-May-19  03:12 PM             1,359 Untitled3.ipynb\n",
      "08-May-19  04:02 PM             5,009 Untitled4.ipynb\n",
      "16-May-19  11:35 AM                72 Untitled5.ipynb\n",
      "22-Jun-19  04:16 PM             1,596 Untitled6.ipynb\n",
      "22-Jun-19  04:28 PM               680 Untitled7.ipynb\n",
      "22-Jun-19  04:50 PM             1,305 Untitled8.ipynb\n",
      "26-Jun-19  07:41 PM               661 Untitled9.ipynb\n",
      "08-May-19  02:54 PM    <DIR>          Videos\n",
      "26-Sep-18  03:42 PM    <DIR>          workspace\n",
      "              44 File(s)        182,571 bytes\n",
      "              26 Dir(s)  77,956,341,760 bytes free\n"
     ]
    }
   ],
   "source": [
    "ls"
   ]
  },
  {
   "cell_type": "code",
   "execution_count": 14,
   "metadata": {},
   "outputs": [
    {
     "name": "stdout",
     "output_type": "stream",
     "text": [
      "C:\\Users\\229\n"
     ]
    }
   ],
   "source": [
    "cd"
   ]
  },
  {
   "cell_type": "code",
   "execution_count": 15,
   "metadata": {},
   "outputs": [
    {
     "data": {
      "text/plain": [
       "'C:\\\\Users\\\\229'"
      ]
     },
     "execution_count": 15,
     "metadata": {},
     "output_type": "execute_result"
    }
   ],
   "source": [
    "pwd"
   ]
  },
  {
   "cell_type": "markdown",
   "metadata": {},
   "source": [
    "# creating a single directory"
   ]
  },
  {
   "cell_type": "code",
   "execution_count": 19,
   "metadata": {},
   "outputs": [],
   "source": [
    "import os\n",
    "os.mkdir('singledirectory')"
   ]
  },
  {
   "cell_type": "code",
   "execution_count": 32,
   "metadata": {},
   "outputs": [],
   "source": [
    "import pathlib\n",
    "p=pathlib.Path('gitam-python')\n",
    "p.mkdir()"
   ]
  },
  {
   "cell_type": "code",
   "execution_count": 29,
   "metadata": {},
   "outputs": [
    {
     "name": "stdout",
     "output_type": "stream",
     "text": [
      " Volume in drive C has no label.\n",
      " Volume Serial Number is B8E5-B928\n",
      "\n",
      " Directory of C:\\Users\\229\n",
      "\n",
      "11-Jul-19  02:49 PM    <DIR>          .\n",
      "11-Jul-19  02:49 PM    <DIR>          ..\n",
      "08-May-19  10:25 AM    <DIR>          .anaconda\n",
      "14-Mar-17  11:10 AM               145 .appletviewer\n",
      "25-Jun-19  09:17 PM               151 .bash_history\n",
      "02-Nov-17  02:51 PM                 0 .cdtclient\n",
      "26-Jun-19  07:38 PM    <DIR>          .conda\n",
      "26-Jun-19  07:38 PM                43 .condarc\n",
      "21-May-19  11:49 AM                66 .gitconfig\n",
      "11-Jul-19  02:14 PM    <DIR>          .ipynb_checkpoints\n",
      "08-May-19  10:43 AM    <DIR>          .ipython\n",
      "08-May-19  12:51 PM    <DIR>          .jupyter\n",
      "18-May-19  11:10 AM    <DIR>          .matplotlib\n",
      "15-Nov-18  03:07 PM    <DIR>          .oracle_jre_usage\n",
      "06-Jul-19  12:41 PM            12,566 06-07-2019.ipynb\n",
      "08-Jul-19  03:53 PM            13,247 08-07-2019.ipynb\n",
      "09-Jul-19  04:35 PM            10,568 09-07-2019.ipynb\n",
      "11-May-19  02:45 PM            10,951 10 May 2019.ipynb\n",
      "10-Jul-19  04:32 PM            16,584 10-07-2019.ipynb\n",
      "11-May-19  03:05 PM             8,141 11 May 2019.ipynb\n",
      "11-Jul-19  02:48 PM            16,233 11-07-2019.ipynb\n",
      "14-May-19  09:53 AM             5,308 12 May 2019.ipynb\n",
      "14-May-19  09:58 AM             2,584 13 May 2019.ipynb\n",
      "16-May-19  10:23 AM             7,729 15 May 2019.ipynb\n",
      "16-May-19  11:43 AM             3,546 16 May 2019.ipynb\n",
      "21-May-19  02:33 PM             1,597 21 May 2019.ipynb\n",
      "09-May-19  05:03 PM             4,564 8 May 2019.ipynb\n",
      "10-May-19  09:58 AM            12,124 9 May 2019.ipynb\n",
      "25-Jun-19  03:14 PM            10,329 aamuktha.ipynb\n",
      "12-May-19  02:44 PM    <DIR>          Anaconda3\n",
      "10-Jul-19  05:05 PM             7,692 assignment.ipynb\n",
      "06-Dec-16  07:16 AM    <DIR>          b429\n",
      "08-May-19  02:54 PM    <DIR>          Contacts\n",
      "12-Mar-19  02:22 PM    <DIR>          csb6\n",
      "26-Jun-19  09:28 PM            11,848 Data structures.ipynb\n",
      "16-May-19  11:35 AM    <DIR>          Datafiles\n",
      "08-Jul-19  10:44 AM    <DIR>          Desktop\n",
      "08-May-19  02:54 PM    <DIR>          Documents\n",
      "25-Jun-19  06:22 PM    <DIR>          Downloads\n",
      "08-May-19  02:54 PM    <DIR>          Favorites\n",
      "11-Jul-19  02:18 PM               140 file.txt\n",
      "11-Jul-19  09:51 AM                12 file1.txt\n",
      "11-Jul-19  02:20 PM               140 file11.txt\n",
      "11-Jul-19  10:19 AM                 0 file2.txt\n",
      "11-Jul-19  10:20 AM               200 file3.txt\n",
      "11-Jul-19  02:21 PM               220 file33.txt\n",
      "15-May-19  09:50 AM             2,798 Hackathon Phase 1(14 May 2019).ipynb\n",
      "08-May-19  02:54 PM    <DIR>          Links\n",
      "08-May-19  02:54 PM    <DIR>          Music\n",
      "08-May-19  02:54 PM    <DIR>          Pictures\n",
      "16-May-19  11:31 AM    <DIR>          Python\n",
      "11-Jul-19  10:57 AM            16,657 python 11-7-19.ipynb\n",
      "22-Jun-19  04:50 PM             1,305 santhosh.ipynb\n",
      "08-May-19  02:54 PM    <DIR>          Saved Games\n",
      "08-May-19  02:54 PM    <DIR>          Searches\n",
      "11-Jul-19  02:46 PM    <DIR>          single directory\n",
      "11-Jul-19  02:46 PM    <DIR>          singledirectory\n",
      "11-Jul-19  02:49 PM    <DIR>          testfolder\n",
      "08-May-19  10:43 AM                72 Untitled.ipynb\n",
      "08-May-19  03:13 PM                 0 untitled.txt\n",
      "08-May-19  12:52 PM                72 Untitled1.ipynb\n",
      "26-Jun-19  08:34 PM               555 Untitled10.ipynb\n",
      "28-Jun-19  03:25 PM             3,162 Untitled11.ipynb\n",
      "08-May-19  02:30 PM                72 Untitled2.ipynb\n",
      "08-May-19  03:12 PM             1,359 Untitled3.ipynb\n",
      "08-May-19  04:02 PM             5,009 Untitled4.ipynb\n",
      "16-May-19  11:35 AM                72 Untitled5.ipynb\n",
      "22-Jun-19  04:16 PM             1,596 Untitled6.ipynb\n",
      "22-Jun-19  04:28 PM               680 Untitled7.ipynb\n",
      "22-Jun-19  04:50 PM             1,305 Untitled8.ipynb\n",
      "26-Jun-19  07:41 PM               661 Untitled9.ipynb\n",
      "08-May-19  02:54 PM    <DIR>          Videos\n",
      "26-Sep-18  03:42 PM    <DIR>          workspace\n",
      "              44 File(s)        192,103 bytes\n",
      "              29 Dir(s)  77,955,870,720 bytes free\n"
     ]
    }
   ],
   "source": [
    "ls\n"
   ]
  },
  {
   "cell_type": "code",
   "execution_count": 31,
   "metadata": {},
   "outputs": [
    {
     "name": "stdout",
     "output_type": "stream",
     "text": [
      "C:\\Users\\229\\git\n"
     ]
    }
   ],
   "source": [
    "cd git"
   ]
  },
  {
   "cell_type": "code",
   "execution_count": 36,
   "metadata": {},
   "outputs": [
    {
     "name": "stdout",
     "output_type": "stream",
     "text": [
      "[WinError 2] The system cannot find the file specified: 'gitam-python'\n",
      "C:\\Users\\229\\git\\gitam-python\n"
     ]
    }
   ],
   "source": [
    "cd gitam-python"
   ]
  },
  {
   "cell_type": "code",
   "execution_count": 38,
   "metadata": {},
   "outputs": [
    {
     "data": {
      "text/plain": [
       "'C:\\\\Users\\\\229\\\\git\\\\gitam-python'"
      ]
     },
     "execution_count": 38,
     "metadata": {},
     "output_type": "execute_result"
    }
   ],
   "source": [
    "pwd"
   ]
  },
  {
   "cell_type": "code",
   "execution_count": 39,
   "metadata": {},
   "outputs": [
    {
     "name": "stdout",
     "output_type": "stream",
     "text": [
      " Volume in drive C has no label.\n",
      " Volume Serial Number is B8E5-B928\n",
      "\n",
      " Directory of C:\\Users\\229\\git\\gitam-python\n",
      "\n",
      "11-Jul-19  02:55 PM    <DIR>          .\n",
      "11-Jul-19  02:55 PM    <DIR>          ..\n",
      "               0 File(s)              0 bytes\n",
      "               2 Dir(s)  77,955,772,416 bytes free\n"
     ]
    }
   ],
   "source": [
    "ls"
   ]
  },
  {
   "cell_type": "markdown",
   "metadata": {},
   "source": [
    "# creating multiple directories"
   ]
  },
  {
   "cell_type": "code",
   "execution_count": 41,
   "metadata": {},
   "outputs": [],
   "source": [
    "import os\n",
    "os.makedirs('2019/july/11')"
   ]
  },
  {
   "cell_type": "code",
   "execution_count": 42,
   "metadata": {},
   "outputs": [
    {
     "name": "stdout",
     "output_type": "stream",
     "text": [
      " Volume in drive C has no label.\n",
      " Volume Serial Number is B8E5-B928\n",
      "\n",
      " Directory of C:\\Users\\229\\git\\gitam-python\n",
      "\n",
      "11-Jul-19  03:00 PM    <DIR>          .\n",
      "11-Jul-19  03:00 PM    <DIR>          ..\n",
      "11-Jul-19  03:00 PM    <DIR>          2019\n",
      "               0 File(s)              0 bytes\n",
      "               3 Dir(s)  77,955,571,712 bytes free\n"
     ]
    }
   ],
   "source": [
    "ls"
   ]
  },
  {
   "cell_type": "code",
   "execution_count": 46,
   "metadata": {},
   "outputs": [
    {
     "ename": "FileNotFoundError",
     "evalue": "[WinError 3] The system cannot find the path specified: 'git'",
     "output_type": "error",
     "traceback": [
      "\u001b[1;31m---------------------------------------------------------------------------\u001b[0m",
      "\u001b[1;31mFileNotFoundError\u001b[0m                         Traceback (most recent call last)",
      "\u001b[1;32m<ipython-input-46-7fb6bfa42562>\u001b[0m in \u001b[0;36m<module>\u001b[1;34m\u001b[0m\n\u001b[0;32m      1\u001b[0m \u001b[1;32mimport\u001b[0m \u001b[0mos\u001b[0m\u001b[1;33m\u001b[0m\u001b[1;33m\u001b[0m\u001b[0m\n\u001b[0;32m      2\u001b[0m \u001b[0mdirPath\u001b[0m\u001b[1;33m=\u001b[0m\u001b[1;34m'git'\u001b[0m\u001b[1;33m\u001b[0m\u001b[1;33m\u001b[0m\u001b[0m\n\u001b[1;32m----> 3\u001b[1;33m \u001b[1;32mfor\u001b[0m \u001b[0mf_name\u001b[0m \u001b[1;32min\u001b[0m \u001b[0mos\u001b[0m\u001b[1;33m.\u001b[0m\u001b[0mlistdir\u001b[0m\u001b[1;33m(\u001b[0m\u001b[0mdirPath\u001b[0m\u001b[1;33m)\u001b[0m\u001b[1;33m:\u001b[0m\u001b[1;33m\u001b[0m\u001b[1;33m\u001b[0m\u001b[0m\n\u001b[0m\u001b[0;32m      4\u001b[0m     \u001b[1;32mif\u001b[0m \u001b[0mf_name\u001b[0m\u001b[1;33m.\u001b[0m\u001b[0mendswitch\u001b[0m\u001b[1;33m(\u001b[0m\u001b[1;34m'.ipynb'\u001b[0m\u001b[1;33m)\u001b[0m\u001b[1;33m:\u001b[0m\u001b[1;33m\u001b[0m\u001b[1;33m\u001b[0m\u001b[0m\n\u001b[0;32m      5\u001b[0m         \u001b[0mprint\u001b[0m\u001b[1;33m(\u001b[0m\u001b[0mf_name\u001b[0m\u001b[1;33m)\u001b[0m\u001b[1;33m\u001b[0m\u001b[1;33m\u001b[0m\u001b[0m\n",
      "\u001b[1;31mFileNotFoundError\u001b[0m: [WinError 3] The system cannot find the path specified: 'git'"
     ]
    }
   ],
   "source": [
    "import os\n",
    "dirPath='git'\n",
    "for f_name in os.listdir(dirPath):\n",
    "    if f_name.endswitch('.ipynb'):\n",
    "        print(f_name)"
   ]
  },
  {
   "cell_type": "code",
   "execution_count": null,
   "metadata": {},
   "outputs": [],
   "source": []
  }
 ],
 "metadata": {
  "kernelspec": {
   "display_name": "Python 3",
   "language": "python",
   "name": "python3"
  },
  "language_info": {
   "codemirror_mode": {
    "name": "ipython",
    "version": 3
   },
   "file_extension": ".py",
   "mimetype": "text/x-python",
   "name": "python",
   "nbconvert_exporter": "python",
   "pygments_lexer": "ipython3",
   "version": "3.7.3"
  }
 },
 "nbformat": 4,
 "nbformat_minor": 2
}
