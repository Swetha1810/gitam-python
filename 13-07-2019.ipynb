{
 "cells": [
  {
   "cell_type": "markdown",
   "metadata": {},
   "source": [
    "### transforming code in to application\n",
    " - replace traditional index manipulation with python core idiomatic\n"
   ]
  },
  {
   "cell_type": "code",
   "execution_count": 1,
   "metadata": {},
   "outputs": [
    {
     "name": "stdout",
     "output_type": "stream",
     "text": [
      "0 2 4 6 8 10 "
     ]
    }
   ],
   "source": [
    "# looping over a range of numbers - traditional approach\n",
    "for i in [0,1,2,3,4,5]:\n",
    "    print(i*2,end=\" \")"
   ]
  },
  {
   "cell_type": "code",
   "execution_count": 2,
   "metadata": {},
   "outputs": [
    {
     "name": "stdout",
     "output_type": "stream",
     "text": [
      "0 1 4 9 16 25 "
     ]
    }
   ],
   "source": [
    "#idiomatic programming\n",
    "for i in range (6):\n",
    "    print(i**2,end=\" \")"
   ]
  },
  {
   "cell_type": "markdown",
   "metadata": {},
   "source": [
    "### looping over a collection"
   ]
  },
  {
   "cell_type": "code",
   "execution_count": 6,
   "metadata": {},
   "outputs": [
    {
     "name": "stdout",
     "output_type": "stream",
     "text": [
      "red greeen yellow purple "
     ]
    }
   ],
   "source": [
    "colours=['red','greeen','yellow','purple']\n",
    "for i in range(len(colours)):\n",
    "    print(colours[i],end=\" \")"
   ]
  },
  {
   "cell_type": "code",
   "execution_count": 7,
   "metadata": {},
   "outputs": [
    {
     "name": "stdout",
     "output_type": "stream",
     "text": [
      "red greeen yellow purple "
     ]
    }
   ],
   "source": [
    "for colour in colours:\n",
    "    print(colour,end=\" \")"
   ]
  },
  {
   "cell_type": "markdown",
   "metadata": {},
   "source": [
    "### looping backwards"
   ]
  },
  {
   "cell_type": "code",
   "execution_count": 8,
   "metadata": {},
   "outputs": [
    {
     "name": "stdout",
     "output_type": "stream",
     "text": [
      "purple yellow greeen red "
     ]
    }
   ],
   "source": [
    "colours=['red','greeen','yellow','purple']\n",
    "for i in range(len(colours)-1,-1,-1):\n",
    "    print(colours[i],end=\" \")"
   ]
  },
  {
   "cell_type": "code",
   "execution_count": 9,
   "metadata": {},
   "outputs": [
    {
     "name": "stdout",
     "output_type": "stream",
     "text": [
      "purple yellow greeen red "
     ]
    }
   ],
   "source": [
    "for colour in reversed(colours):\n",
    "    print(colour,end=\" \")"
   ]
  },
  {
   "cell_type": "code",
   "execution_count": 11,
   "metadata": {},
   "outputs": [
    {
     "name": "stdout",
     "output_type": "stream",
     "text": [
      "yellow red purple greeen "
     ]
    }
   ],
   "source": [
    "colours=['red','greeen','yellow','purple']\n",
    "for colours in sorted(colours,reverse=True):\n",
    "     print(colours,end=\" \")"
   ]
  },
  {
   "cell_type": "markdown",
   "metadata": {},
   "source": [
    "###\n",
    "  - if x<=y and y<=z:\n",
    "  - if x<=y<=z:\n",
    "  - if x= True\n",
    "  - if x\n",
    " \n",
    "  "
   ]
  },
  {
   "cell_type": "markdown",
   "metadata": {},
   "source": [
    "### pandas"
   ]
  },
  {
   "cell_type": "code",
   "execution_count": 7,
   "metadata": {},
   "outputs": [],
   "source": [
    "import pandas as pd"
   ]
  },
  {
   "cell_type": "code",
   "execution_count": 8,
   "metadata": {},
   "outputs": [],
   "source": [
    "dt={'ID':[11,12,13,14,15],\n",
    "    'first_name':['A','B','C','D','E'],\n",
    "    'company':['aa','bb','cc','dd','ee'],\n",
    "    'address':['hyd','hyd','hyd','hyd','hyd']}\n",
    "mydt = pd.DataFrame(dt)"
   ]
  },
  {
   "cell_type": "code",
   "execution_count": 9,
   "metadata": {},
   "outputs": [
    {
     "name": "stdout",
     "output_type": "stream",
     "text": [
      "   ID first_name company address\n",
      "0  11          A      aa     hyd\n",
      "1  12          B      bb     hyd\n",
      "2  13          C      cc     hyd\n",
      "3  14          D      dd     hyd\n",
      "4  15          E      ee     hyd\n"
     ]
    }
   ],
   "source": [
    "print(mydt)"
   ]
  },
  {
   "cell_type": "code",
   "execution_count": 10,
   "metadata": {},
   "outputs": [],
   "source": [
    "import os"
   ]
  },
  {
   "cell_type": "code",
   "execution_count": null,
   "metadata": {},
   "outputs": [],
   "source": [
    "os.chdir(\"pathfile\")#saves to certain location"
   ]
  },
  {
   "cell_type": "code",
   "execution_count": 11,
   "metadata": {},
   "outputs": [],
   "source": [
    "mydt.to_csv('workingfile.csv',index=False)\n"
   ]
  },
  {
   "cell_type": "markdown",
   "metadata": {},
   "source": [
    "### reading the data from csv file"
   ]
  },
  {
   "cell_type": "code",
   "execution_count": 12,
   "metadata": {},
   "outputs": [],
   "source": [
    "mydata = pd.read_csv('workingfile.csv')"
   ]
  },
  {
   "cell_type": "code",
   "execution_count": 15,
   "metadata": {},
   "outputs": [
    {
     "name": "stdout",
     "output_type": "stream",
     "text": [
      "   ID first_name company address\n",
      "0  11          A      aa     hyd\n",
      "1  12          B      bb     hyd\n",
      "2  13          C      cc     hyd\n",
      "3  14          D      dd     hyd\n",
      "4  15          E      ee     hyd\n"
     ]
    }
   ],
   "source": [
    "print(mydata)"
   ]
  },
  {
   "cell_type": "code",
   "execution_count": 14,
   "metadata": {},
   "outputs": [],
   "source": [
    "mydata1 = pd.read_csv('workingfile.csv',skiprows=1,names=[\"CustId\",\"Name\",\"Company\",\"Address\"])"
   ]
  },
  {
   "cell_type": "code",
   "execution_count": 16,
   "metadata": {},
   "outputs": [
    {
     "name": "stdout",
     "output_type": "stream",
     "text": [
      "   CustId Name Company Address\n",
      "0      11    A      aa     hyd\n",
      "1      12    B      bb     hyd\n",
      "2      13    C      cc     hyd\n",
      "3      14    D      dd     hyd\n",
      "4      15    E      ee     hyd\n"
     ]
    }
   ],
   "source": [
    "print(mydata1)"
   ]
  },
  {
   "cell_type": "code",
   "execution_count": 17,
   "metadata": {},
   "outputs": [
    {
     "data": {
      "text/plain": [
       "'C:\\\\Users\\\\229'"
      ]
     },
     "execution_count": 17,
     "metadata": {},
     "output_type": "execute_result"
    }
   ],
   "source": [
    "pwd\n"
   ]
  },
  {
   "cell_type": "markdown",
   "metadata": {},
   "source": []
  },
  {
   "cell_type": "markdown",
   "metadata": {},
   "source": [
    "###  Print on ly two numbers\n",
    "### print large value from custid column-max\n",
    "### print least value from custid column-min\n",
    "### average value of custid column-sum(li)/len(li)    "
   ]
  },
  {
   "cell_type": "markdown",
   "metadata": {},
   "source": [
    "# Numpy-working with Multi-Dimensional Array\n",
    " - numpy arrays is a bit like Python List\n",
    " - Numpy array is data structure of Numpy Lib\n",
    " - It's short name for Numeric"
   ]
  },
  {
   "cell_type": "code",
   "execution_count": 1,
   "metadata": {},
   "outputs": [],
   "source": [
    "import numpy as np # i mport numpy pacakage"
   ]
  },
  {
   "cell_type": "code",
   "execution_count": 2,
   "metadata": {},
   "outputs": [
    {
     "name": "stdout",
     "output_type": "stream",
     "text": [
      "[1, 2, 3, 4, 5] "
     ]
    }
   ],
   "source": [
    "li = [1,2,3,4,5]\n",
    "print(li,end=\" \")"
   ]
  },
  {
   "cell_type": "code",
   "execution_count": 4,
   "metadata": {},
   "outputs": [
    {
     "name": "stdout",
     "output_type": "stream",
     "text": [
      "[1 2 3 4 5]\n"
     ]
    }
   ],
   "source": [
    "array=np.array(li)\n",
    "print(array)"
   ]
  },
  {
   "cell_type": "code",
   "execution_count": 5,
   "metadata": {},
   "outputs": [
    {
     "name": "stdout",
     "output_type": "stream",
     "text": [
      "(2, 3)\n",
      "(3, 2)\n"
     ]
    }
   ],
   "source": [
    "a1=np.array([(1,2,3),(4,5,6)])\n",
    "print(a1.shape)\n",
    "a2=np.array([(1,2),(3,4),(5,6)])\n",
    "print(a2.shape)"
   ]
  },
  {
   "cell_type": "code",
   "execution_count": 6,
   "metadata": {},
   "outputs": [
    {
     "data": {
      "text/plain": [
       "array([[1, 2],\n",
       "       [3, 4],\n",
       "       [5, 6]])"
      ]
     },
     "execution_count": 6,
     "metadata": {},
     "output_type": "execute_result"
    }
   ],
   "source": [
    "a1=np.array([(1,2,3),(4,5,6)])\n",
    "a1.reshape(3,2)"
   ]
  },
  {
   "cell_type": "code",
   "execution_count": 7,
   "metadata": {},
   "outputs": [
    {
     "name": "stdout",
     "output_type": "stream",
     "text": [
      "[[1 2 3 4 5 6]]\n"
     ]
    }
   ],
   "source": [
    "a1=np.array([(1,2,3)])\n",
    "a2=np.array([(4,5,6)])\n",
    "print(np.hstack((a1,a2)))"
   ]
  },
  {
   "cell_type": "code",
   "execution_count": 8,
   "metadata": {},
   "outputs": [
    {
     "name": "stdout",
     "output_type": "stream",
     "text": [
      "[[1 2 3]\n",
      " [4 5 6]]\n"
     ]
    }
   ],
   "source": [
    "a1=np.array([(1,2,3)])\n",
    "a2=np.array([(4,5,6)])\n",
    "print(np.vstack((a1,a2)))"
   ]
  },
  {
   "cell_type": "code",
   "execution_count": null,
   "metadata": {},
   "outputs": [],
   "source": [
    "om turtle import*\n",
    "pencolor('red')\n",
    "for x in range (100):\n",
    "   t.forward(x)\n",
    "   t.left(90)\n"
   ]
  }
 ],
 "metadata": {
  "kernelspec": {
   "display_name": "Python 3",
   "language": "python",
   "name": "python3"
  },
  "language_info": {
   "codemirror_mode": {
    "name": "ipython",
    "version": 3
   },
   "file_extension": ".py",
   "mimetype": "text/x-python",
   "name": "python",
   "nbconvert_exporter": "python",
   "pygments_lexer": "ipython3",
   "version": "3.7.3"
  }
 },
 "nbformat": 4,
 "nbformat_minor": 2
}
