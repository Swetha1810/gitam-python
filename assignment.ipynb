{
 "cells": [
  {
   "cell_type": "code",
   "execution_count": 13,
   "metadata": {},
   "outputs": [
    {
     "name": "stdout",
     "output_type": "stream",
     "text": [
      "377 233 144 89 55 34 21 13 8 5 3 2 1 1 0 "
     ]
    }
   ],
   "source": [
    "# fibonacci in reverse\n",
    "\n",
    " # Python 3 Program to print Fibonacci \n",
    "# series in reverse order \n",
    "def reverseFibonacci(n): \n",
    "   a = [0] * n  # assigning first and second elements \n",
    "   a[0] = 0 \n",
    "   a[1] = 1 \n",
    "   for i in range(2, n):   \n",
    "       a[i] = a[i - 2] + a[i - 1]   # storing sum in the \n",
    "                                    # preceding location \n",
    "   for i in range(n - 1, -1 , -1):   \n",
    "       print(a[i],end=\" \") # printing array in \n",
    "                          # reverse order   \n",
    "n = 15# Driver function \n",
    "reverseFibonacci(n)\n"
   ]
  },
  {
   "cell_type": "code",
   "execution_count": null,
   "metadata": {},
   "outputs": [],
   "source": []
  },
  {
   "cell_type": "code",
   "execution_count": 14,
   "metadata": {},
   "outputs": [
    {
     "name": "stdout",
     "output_type": "stream",
     "text": [
      "1\n",
      "2\n",
      "4\n",
      "8\n",
      "16\n",
      "32\n",
      "64\n",
      "128\n",
      "256\n",
      "512\n"
     ]
    }
   ],
   "source": [
    "#11\n",
    "def twopow(n):\n",
    "   for i in range(n):\n",
    "      k=2**i\n",
    "      print(k)\n",
    "   return\n",
    "twopow(10)\n"
   ]
  },
  {
   "cell_type": "code",
   "execution_count": 17,
   "metadata": {},
   "outputs": [
    {
     "name": "stdout",
     "output_type": "stream",
     "text": [
      "1\n",
      "3\n",
      "9\n",
      "27\n",
      "81\n",
      "243\n",
      "729\n",
      "2187\n",
      "6561\n",
      "19683\n"
     ]
    }
   ],
   "source": [
    "#10\n",
    "def threepow(n):\n",
    "   for i in range(n):\n",
    "      k=3**i\n",
    "      print(k)\n",
    "   return\n",
    "threepow(10)\n"
   ]
  },
  {
   "cell_type": "code",
   "execution_count": 18,
   "metadata": {},
   "outputs": [
    {
     "name": "stdout",
     "output_type": "stream",
     "text": [
      "1 3 4 8 15 27 50 92 "
     ]
    }
   ],
   "source": [
    "#12\n",
    "def ser(n):\n",
    "    a=[0]*n\n",
    "    a[0]=1\n",
    "    a[1]=3\n",
    "    a[2]=4\n",
    "    for i in range(3,n):\n",
    "        a[i]=a[i-3]+a[i-2]+a[i-1]\n",
    "    for x in range(0,n):     \n",
    "        print(a[x],end=\" \")\n",
    "    return \n",
    "ser(8)\n",
    " "
   ]
  },
  {
   "cell_type": "code",
   "execution_count": 19,
   "metadata": {},
   "outputs": [
    {
     "name": "stdout",
     "output_type": "stream",
     "text": [
      "1!+2!+3!+4!+5!+6!+7!+8!+"
     ]
    }
   ],
   "source": [
    "#14\n",
    "#individual digits factorial sum\n",
    "def sum(n):\n",
    "    for i in range(1,n+1):\n",
    "        fact=1\n",
    "        if i<=n:\n",
    "            print(i,end=\"!+\")\n",
    "    return \n",
    "sum(8)\n"
   ]
  },
  {
   "cell_type": "code",
   "execution_count": 29,
   "metadata": {},
   "outputs": [
    {
     "name": "stdout",
     "output_type": "stream",
     "text": [
      "a d\n",
      "b e\n",
      "c f\n",
      "d g\n"
     ]
    }
   ],
   "source": [
    "#9\n",
    "s1=(\"abcd\")\n",
    "s2=(\"defg\")\n",
    "for i in  range(len(s1)):\n",
    "   print(s1[i],s2[i])\n",
    "                      "
   ]
  },
  {
   "cell_type": "markdown",
   "metadata": {},
   "source": []
  },
  {
   "cell_type": "code",
   "execution_count": 30,
   "metadata": {},
   "outputs": [
    {
     "name": "stdout",
     "output_type": "stream",
     "text": [
      "no of values5\n",
      "2\n",
      "1\n",
      "2\n",
      "5\n",
      "8\n"
     ]
    },
    {
     "data": {
      "text/plain": [
       "14"
      ]
     },
     "execution_count": 30,
     "metadata": {},
     "output_type": "execute_result"
    }
   ],
   "source": [
    "def Q2(n):\n",
    "    a=[]\n",
    "    s=0\n",
    "    for i in range(n):\n",
    "        a.append(int(input()))\n",
    "    for i in range(n):\n",
    "        c=0\n",
    "        for j in range(n):\n",
    "            if i!=j:\n",
    "               if a[i]==a[j]:\n",
    "                  c+=1\n",
    "        if c==0:\n",
    "            s=s+a[i]\n",
    "    return s\n",
    "Q2(int(input(\"no of values\")))"
   ]
  },
  {
   "cell_type": "code",
   "execution_count": 31,
   "metadata": {},
   "outputs": [
    {
     "name": "stdout",
     "output_type": "stream",
     "text": [
      "enter str:bad weather\n",
      "b w\n",
      "a e\n",
      "d a\n",
      "t *\n",
      "h *\n",
      "e *\n",
      "r *\n"
     ]
    }
   ],
   "source": [
    "\n",
    "def Q3(a,b):\n",
    "    if len(a)<=len(b):\n",
    "        n=len(a)\n",
    "        k=len(b)\n",
    "    else:\n",
    "        n=len(b)\n",
    "        k=len(a)\n",
    "    for i in range(n):\n",
    "        print(a[i],b[i])\n",
    "    for j in range(n,k):\n",
    "        if(len(a)<=len(b)):\n",
    "            print(b[j],'*')\n",
    "        else:\n",
    "            print(a[j],'*')\n",
    "    return\n",
    "x=str(input(\"enter str:\"))\n",
    "x=x.split()\n",
    "Q3(x[0],x[1])"
   ]
  },
  {
   "cell_type": "code",
   "execution_count": 32,
   "metadata": {},
   "outputs": [
    {
     "name": "stdout",
     "output_type": "stream",
     "text": [
      "enter str:good morning\n",
      "MORNING\n"
     ]
    }
   ],
   "source": [
    "def Q4(a,b):\n",
    "  if len(a)>=len(b):\n",
    "       print(a.upper())\n",
    "  else:\n",
    "       print(b.upper())\n",
    "  return\n",
    "x=str(input(\"enter str:\"))\n",
    "x=x.split()\n",
    "Q4(x[0],x[1])"
   ]
  },
  {
   "cell_type": "code",
   "execution_count": 1,
   "metadata": {},
   "outputs": [
    {
     "name": "stdout",
     "output_type": "stream",
     "text": [
      "The 7 th term of the series is : 1458\n"
     ]
    }
   ],
   "source": [
    "#6\n",
    "## Python3 Program to find nth  \n",
    "# term of geometric progression  \n",
    "import math  \n",
    "def nthofgpa(a, r, N):# Using formula to find the Nth       \n",
    "   return( a * (int)(math.pow(r, N - 1)) )   # term TN = a1 * r(N-1)     \n",
    "                                             # Driver code  \n",
    "a = 2 # Starting number  \n",
    "r = 3 # Common ratio  \n",
    "N = 7# N th term to be find        \n",
    "print(\"The\", N, \"th term of the series is :\",  \n",
    "                           nthofgpa(a, r, N))  \n"
   ]
  },
  {
   "cell_type": "code",
   "execution_count": 33,
   "metadata": {},
   "outputs": [
    {
     "name": "stdout",
     "output_type": "stream",
     "text": [
      "enter num41325\n",
      "****\n",
      "*\n",
      "***\n",
      "**\n",
      "*****\n"
     ]
    }
   ],
   "source": [
    "def Q7(n):\n",
    "    for i in range(len(n)):\n",
    "        n[i]=int(n[i])\n",
    "    for i in range(len(n)):\n",
    "        for j in range(n[i]):\n",
    "            print(\"*\",end=\"\")\n",
    "        print(\"\")\n",
    "    return\n",
    "x=input(\"enter num\")\n",
    "Q7(list(x))\n"
   ]
  }
 ],
 "metadata": {
  "kernelspec": {
   "display_name": "Python 3",
   "language": "python",
   "name": "python3"
  },
  "language_info": {
   "codemirror_mode": {
    "name": "ipython",
    "version": 3
   },
   "file_extension": ".py",
   "mimetype": "text/x-python",
   "name": "python",
   "nbconvert_exporter": "python",
   "pygments_lexer": "ipython3",
   "version": "3.7.3"
  }
 },
 "nbformat": 4,
 "nbformat_minor": 2
}
