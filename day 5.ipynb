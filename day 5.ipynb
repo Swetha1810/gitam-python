{
 "cells": [
  {
   "cell_type": "code",
   "execution_count": 1,
   "metadata": {},
   "outputs": [
    {
     "name": "stdout",
     "output_type": "stream",
     "text": [
      "30 python p 10.2\n",
      "<class 'int'> <class 'str'> <class 'str'> <class 'str'>\n"
     ]
    }
   ],
   "source": [
    "a=30;\n",
    "s1='python'\n",
    "s2='p'\n",
    "f1=10.2\n",
    "print(a,s1,s2,f1)\n",
    "print(type(a),type(s1),type(s2),type(s1))\n",
    "      "
   ]
  },
  {
   "cell_type": "markdown",
   "metadata": {},
   "source": []
  },
  {
   "cell_type": "code",
   "execution_count": 1,
   "metadata": {},
   "outputs": [
    {
     "name": "stdout",
     "output_type": "stream",
     "text": [
      "100\n",
      "20 20 20\n"
     ]
    }
   ],
   "source": [
    "n1=100\n",
    "a=b=c=20\n",
    "print(n1)\n",
    "print(a,b,c)"
   ]
  },
  {
   "cell_type": "markdown",
   "metadata": {},
   "source": [
    "# "
   ]
  },
  {
   "cell_type": "markdown",
   "metadata": {},
   "source": [
    "s1=input(\"enter your name\")\n",
    "print(s1)\n",
    "print(type(s1))\n"
   ]
  },
  {
   "cell_type": "code",
   "execution_count": 3,
   "metadata": {},
   "outputs": [
    {
     "name": "stdout",
     "output_type": "stream",
     "text": [
      "enter a number5\n",
      "5 <class 'int'>\n"
     ]
    }
   ],
   "source": [
    "#want a num as input\n",
    "n1=int(input(\"enter a number\"))\n",
    "print(n1,type(n1))\n"
   ]
  },
  {
   "cell_type": "code",
   "execution_count": 4,
   "metadata": {},
   "outputs": [
    {
     "name": "stdout",
     "output_type": "stream",
     "text": [
      "124\n",
      "122\n",
      "123\n",
      "123.0\n",
      "0\n"
     ]
    }
   ],
   "source": [
    "n1=123\n",
    "print(n1+1) \n",
    "print(n1-1)\n",
    "print(n1*1)\n",
    "print(n1/1)\n",
    "print(n1%1)\n",
    "\n"
   ]
  },
  {
   "cell_type": "code",
   "execution_count": 6,
   "metadata": {},
   "outputs": [
    {
     "name": "stdout",
     "output_type": "stream",
     "text": [
      "-2.5849394142282115e+59\n"
     ]
    }
   ],
   "source": [
    "x=1+2*3/5+9-5**85\n",
    "print(x)\n",
    "\n"
   ]
  },
  {
   "cell_type": "code",
   "execution_count": 10,
   "metadata": {},
   "outputs": [
    {
     "ename": "SyntaxError",
     "evalue": "invalid syntax (<ipython-input-10-748d51337f8e>, line 10)",
     "output_type": "error",
     "traceback": [
      "\u001b[0;36m  File \u001b[0;32m\"<ipython-input-10-748d51337f8e>\"\u001b[0;36m, line \u001b[0;32m10\u001b[0m\n\u001b[0;31m    if a=>b is True:\u001b[0m\n\u001b[0m        ^\u001b[0m\n\u001b[0;31mSyntaxError\u001b[0m\u001b[0;31m:\u001b[0m invalid syntax\n"
     ]
    }
   ],
   "source": [
    "#relaional operators\n",
    "a=12\n",
    "b=25\n",
    "if a<b is True:\n",
    "    print(a<b)\n",
    "if a>b is True:\n",
    "    print(a>b)\n",
    "if a==b is True:\n",
    "    print(a=b)\n",
    "if a=>b is True:\n",
    "    print(a=>b)\n",
    "if a=<b is True:\n",
    "    print(a=<b)"
   ]
  },
  {
   "cell_type": "code",
   "execution_count": null,
   "metadata": {},
   "outputs": [],
   "source": []
  },
  {
   "cell_type": "code",
   "execution_count": 23,
   "metadata": {},
   "outputs": [],
   "source": [
    "a=12\n",
    "b=25\n",
    "if a<b is True:\n",
    "    print(\"a<b\")\n",
    "if a>b is True:\n",
    "    print(\"a>b\")\n",
    "if a==b is True:\n",
    "    print(\"a=b\")\n",
    "if a<=b is True:\n",
    "    print(\"a<=b\")\n",
    "if a>=b is True:\n",
    "    print(\"a=<b\")"
   ]
  },
  {
   "cell_type": "code",
   "execution_count": null,
   "metadata": {},
   "outputs": [],
   "source": []
  }
 ],
 "metadata": {
  "kernelspec": {
   "display_name": "Python 3",
   "language": "python",
   "name": "python3"
  },
  "language_info": {
   "codemirror_mode": {
    "name": "ipython",
    "version": 3
   },
   "file_extension": ".py",
   "mimetype": "text/x-python",
   "name": "python",
   "nbconvert_exporter": "python",
   "pygments_lexer": "ipython3",
   "version": "3.7.3"
  }
 },
 "nbformat": 4,
 "nbformat_minor": 2
}
